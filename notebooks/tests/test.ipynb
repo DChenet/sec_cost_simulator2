{
 "cells": [
  {
   "metadata": {
    "ExecuteTime": {
     "end_time": "2025-07-21T16:31:47.905827Z",
     "start_time": "2025-07-21T16:31:47.901951Z"
    }
   },
   "cell_type": "code",
   "source": [
    "from typing import Tuple\n",
    "\n",
    "from core.nodes.transmission_node import TransmissionNode\n",
    "from core.nodes.computing_node import ComputingNode"
   ],
   "id": "9fed5359d2d348fb",
   "outputs": [],
   "execution_count": 9
  },
  {
   "metadata": {
    "ExecuteTime": {
     "end_time": "2025-07-21T16:31:47.924338Z",
     "start_time": "2025-07-21T16:31:47.919395Z"
    }
   },
   "cell_type": "code",
   "source": [
    "def case_standalone(data_size: int) -> Tuple[float, float]:\n",
    "    print(\"-- Standalone case:\")\n",
    "\n",
    "    time_cost = 0\n",
    "    energy_cost = 0\n",
    "\n",
    "    obc = ComputingNode(speed=30.0, phi=0.9)\n",
    "    time_cost += obc.time_cost(data_size)\n",
    "    energy_cost += obc.energy_cost(data_size, energy_memory=5, energy_computing=25)\n",
    "    d_out = obc.process(data_size)\n",
    "\n",
    "    ground_link = TransmissionNode(speed=10.0)\n",
    "    time_cost += ground_link.time_cost(d_out)\n",
    "    energy_cost += ground_link.energy_cost(d_out, energy=5, distance=700)\n",
    "    d_out = ground_link.process(d_out)\n",
    "\n",
    "    print(\"Time: \" + str(time_cost) + \" Energy: \" + str(energy_cost))\n",
    "    return time_cost, energy_cost"
   ],
   "id": "b63cc96bb3590e3a",
   "outputs": [],
   "execution_count": 10
  },
  {
   "metadata": {
    "ExecuteTime": {
     "end_time": "2025-07-21T16:31:47.941960Z",
     "start_time": "2025-07-21T16:31:47.935793Z"
    }
   },
   "cell_type": "code",
   "source": [
    "def case_edge_computing(data_size: int) -> Tuple[float, float]:\n",
    "    print(\"-- EC Case\")\n",
    "\n",
    "    user_time_cost = 0\n",
    "    user_energy_cost = 0\n",
    "\n",
    "    obc = ComputingNode(speed=30.0, phi=0.9)\n",
    "    user_time_cost += obc.time_cost(data_size)\n",
    "    user_energy_cost += obc.energy_cost(data_size, energy_memory=5, energy_computing=25)\n",
    "    d_out = obc.process(data_size)\n",
    "\n",
    "    isl = TransmissionNode(speed=20.0)\n",
    "    user_time_cost += isl.time_cost(d_out)\n",
    "    user_energy_cost += isl.energy_cost(d_out, energy=5, distance=100)\n",
    "    d_out = isl.process(d_out)\n",
    "\n",
    "    print(\"User costs:\")\n",
    "    print(\"Time: \" + str(user_time_cost) + \" Energy: \" + str(user_energy_cost))\n",
    "\n",
    "    ec_time_cost = 0\n",
    "    ec_energy_cost = 0\n",
    "\n",
    "    edge_computer = ComputingNode(speed=300.0, phi=0.4)\n",
    "    ec_time_cost += edge_computer.time_cost(d_out)\n",
    "    ec_energy_cost += edge_computer.energy_cost(d_out, energy_memory=5, energy_computing=25)\n",
    "    d_out = edge_computer.process(d_out)\n",
    "\n",
    "    ground_link = TransmissionNode(speed=10.0)\n",
    "    ec_time_cost += ground_link.time_cost(d_out)\n",
    "    ec_energy_cost += ground_link.energy_cost(d_out, energy=5, distance=700)\n",
    "    d_out = ground_link.process(d_out)\n",
    "\n",
    "    print(\"Edge costs:\")\n",
    "    print(\"Time: \" + str(ec_time_cost) + \" Energy: \" + str(ec_energy_cost))\n",
    "\n",
    "    print(\"Total costs:\")\n",
    "    print(\"Time: \" + str(user_time_cost + ec_time_cost) +\n",
    "          \" Energy: \" + str(user_energy_cost + ec_energy_cost))\n",
    "\n",
    "    return user_time_cost + ec_time_cost, user_energy_cost + ec_energy_cost\n"
   ],
   "id": "f6182da23a4e5602",
   "outputs": [],
   "execution_count": 11
  },
  {
   "metadata": {
    "ExecuteTime": {
     "end_time": "2025-07-21T16:31:47.949967Z",
     "start_time": "2025-07-21T16:31:47.945958Z"
    }
   },
   "cell_type": "code",
   "source": [
    "data_size = 100\n",
    "\n",
    "_ , _ = case_standalone(data_size)\n",
    "_ , _ = case_edge_computing(data_size)"
   ],
   "id": "30cb13d3535efbbe",
   "outputs": [
    {
     "name": "stdout",
     "output_type": "stream",
     "text": [
      "-- Standalone case:\n",
      "Time: 12.333333333333334 Energy: 711.362745133975\n",
      "-- EC Case\n",
      "User costs:\n",
      "Time: 7.833333333333334 Energy: 628.3333333333334\n",
      "Edge costs:\n",
      "Time: 3.9 Energy: 508.7117647202566\n",
      "Total costs:\n",
      "Time: 11.733333333333334 Energy: 1137.04509805359\n"
     ]
    }
   ],
   "execution_count": 12
  }
 ],
 "metadata": {
  "kernelspec": {
   "display_name": "Python 3",
   "language": "python",
   "name": "python3"
  },
  "language_info": {
   "codemirror_mode": {
    "name": "ipython",
    "version": 2
   },
   "file_extension": ".py",
   "mimetype": "text/x-python",
   "name": "python",
   "nbconvert_exporter": "python",
   "pygments_lexer": "ipython2",
   "version": "2.7.6"
  }
 },
 "nbformat": 4,
 "nbformat_minor": 5
}
